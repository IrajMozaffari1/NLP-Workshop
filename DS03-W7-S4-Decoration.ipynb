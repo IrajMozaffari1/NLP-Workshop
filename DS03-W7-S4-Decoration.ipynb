{
  "cells": [
    {
      "cell_type": "markdown",
      "source": [
        "# Decoration in Python\n",
        "A decorator is a special function that modifies the behavior of another function or method.\n",
        "\n",
        "Imagine you have a function that does something basic, like printing a message. With a decorator, you can add additional actions—such as logging when the function was called—without changing the function's code. It’s a way to keep the code cleaner and more organized."
      ],
      "metadata": {
        "id": "Iz6noSpj8z73"
      }
    },
    {
      "cell_type": "code",
      "execution_count": 1,
      "metadata": {
        "colab": {
          "base_uri": "https://localhost:8080/"
        },
        "id": "lIYdn1woOS1n",
        "outputId": "f51af0ac-a53f-4476-97cf-41d4fe690e09"
      },
      "outputs": [
        {
          "output_type": "stream",
          "name": "stdout",
          "text": [
            "Hello!\n"
          ]
        }
      ],
      "source": [
        "def greet():\n",
        "    print(\"Hello!\")\n",
        "\n",
        "greet()\n"
      ]
    },
    {
      "cell_type": "code",
      "source": [
        "def log_decorator(func):\n",
        "    def wrapper():\n",
        "        print(\"Logging: Calling function...\")\n",
        "        func()\n",
        "        print(\"Logging: Function call completed.\")\n",
        "    return wrapper\n",
        ""
      ],
      "metadata": {
        "id": "wKK9wyoYOhTj"
      },
      "execution_count": 3,
      "outputs": []
    },
    {
      "cell_type": "code",
      "source": [
        "@log_decorator\n",
        "def greet():\n",
        "    print(\"Hello!\")\n",
        "\n",
        "greet()\n"
      ],
      "metadata": {
        "id": "RxonEL8rO28g",
        "outputId": "b77c0b82-737c-4490-a579-fb12786f8bf7",
        "colab": {
          "base_uri": "https://localhost:8080/"
        }
      },
      "execution_count": 4,
      "outputs": [
        {
          "output_type": "stream",
          "name": "stdout",
          "text": [
            "Logging: Calling function...\n",
            "Hello!\n",
            "Logging: Function call completed.\n"
          ]
        }
      ]
    },
    {
      "cell_type": "markdown",
      "source": [
        "## Some use cases\n",
        "1. **Logging**: Tracking function usage and debugging.\n"
      ],
      "metadata": {
        "id": "yT373gOV9RFp"
      }
    },
    {
      "cell_type": "code",
      "source": [
        "def log_decorator(func):\n",
        "    def wrapper(*args, **kwargs):\n",
        "        print(f\"Calling {func.__name__} with arguments {args} {kwargs}\")\n",
        "        return func(*args, **kwargs)\n",
        "    return wrapper\n",
        "\n",
        "# use the @ symbol to apply this decorator to greet()\n",
        "@log_decorator\n",
        "def add(x, y):\n",
        "    return x + y\n",
        "\n",
        "print(add(5, 3))\n"
      ],
      "metadata": {
        "id": "45YHqGVKPGdF",
        "outputId": "e9c0b92f-cf3f-4304-f857-fa745df82071",
        "colab": {
          "base_uri": "https://localhost:8080/"
        }
      },
      "execution_count": 5,
      "outputs": [
        {
          "output_type": "stream",
          "name": "stdout",
          "text": [
            "Calling add with arguments (5, 3) {}\n",
            "8\n"
          ]
        }
      ]
    },
    {
      "cell_type": "markdown",
      "source": [
        "2. **Access Control:** Verifying permissions before running sensitive code."
      ],
      "metadata": {
        "id": "8GqZzOrL9bKp"
      }
    },
    {
      "cell_type": "code",
      "source": [
        "def requires_permission(func):\n",
        "    def wrapper(user):\n",
        "        if user == \"admin\":\n",
        "            return func(user)\n",
        "        else:\n",
        "            print(\"Access Denied\")\n",
        "    return wrapper\n",
        "\n",
        "@requires_permission\n",
        "def delete_user(user):\n",
        "    print(\"User deleted\")\n",
        "\n",
        "delete_user(\"guest\")  # Output: Access Denied\n",
        "delete_user(\"admin\")  # Output: User deleted\n"
      ],
      "metadata": {
        "id": "4d8xFy6cPdbS",
        "outputId": "68efe608-2bf1-43c5-dc47-942a06fe0d73",
        "colab": {
          "base_uri": "https://localhost:8080/"
        }
      },
      "execution_count": 6,
      "outputs": [
        {
          "output_type": "stream",
          "name": "stdout",
          "text": [
            "Access Denied\n",
            "User deleted\n"
          ]
        }
      ]
    },
    {
      "cell_type": "markdown",
      "source": [
        "3. Timing Functions: Measuring how long a function takes to execute."
      ],
      "metadata": {
        "id": "VeiebRTO9f3h"
      }
    },
    {
      "cell_type": "code",
      "source": [
        "import time\n",
        "\n",
        "def timer(func):\n",
        "    def wrapper(*args, **kwargs):\n",
        "        start = time.time()\n",
        "        result = func(*args, **kwargs)\n",
        "        end = time.time()\n",
        "        print(f\"{func.__name__} took {end - start:.4f} seconds to run\")\n",
        "        return result\n",
        "    return wrapper\n",
        "\n",
        "@timer\n",
        "def slow_function():\n",
        "    time.sleep(2)\n",
        "\n",
        "slow_function()\n"
      ],
      "metadata": {
        "id": "n19RVxow9hWA",
        "outputId": "da8642bd-4307-47d7-8042-0b81ad5bdb3e",
        "colab": {
          "base_uri": "https://localhost:8080/"
        }
      },
      "execution_count": 2,
      "outputs": [
        {
          "output_type": "stream",
          "name": "stdout",
          "text": [
            "slow_function took 2.0015 seconds to run\n"
          ]
        }
      ]
    }
  ],
  "metadata": {
    "colab": {
      "name": "scratchpad",
      "provenance": []
    },
    "kernelspec": {
      "display_name": "Python 3",
      "name": "python3"
    }
  },
  "nbformat": 4,
  "nbformat_minor": 0
}